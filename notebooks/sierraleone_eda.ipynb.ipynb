{
 "cells": [
  {
   "cell_type": "markdown",
   "id": "af88090f",
   "metadata": {},
   "source": [
    "# Data Analysis Notebook for Sierra Leone\n",
    "\n",
    "This notebook contains the setup and basic data analysis for **Sierra Leone**.\n",
    "\n",
    "## Folder Structure\n",
    "- data/Sierra Leone/raw\n",
    "- data/Sierra Leone/processed\n",
    "- notebooks/Sierra Leone\n",
    "\n",
    "## Instructions\n",
    "- Place your raw data files in the `data/Sierra Leone/raw` folder.\n",
    "- Processed data outputs will be saved in `data/Sierra Leone/processed`.\n",
    "- Use this notebook for all analysis steps.\n",
    "\n",
    "---\n"
   ]
  },
  {
   "cell_type": "code",
   "execution_count": 3,
   "id": "e82412bb",
   "metadata": {},
   "outputs": [
    {
     "name": "stdout",
     "output_type": "stream",
     "text": [
      "Folders created for Sierra Leone:\n",
      " - Raw data folder: c:\\Users\\YEADONAY\\Solar-challenge-week1\\notebooks\\data\\Sierra Leone\\raw\n",
      " - Processed data folder: c:\\Users\\YEADONAY\\Solar-challenge-week1\\notebooks\\data\\Sierra Leone\\processed\n"
     ]
    }
   ],
   "source": [
    "# Import necessary libraries\n",
    "import os\n",
    "import pandas as pd\n",
    "\n",
    "# Set up folder paths\n",
    "base_dir = os.getcwd()\n",
    "raw_data_dir = os.path.join(base_dir, 'data', 'Sierra Leone', 'raw')\n",
    "processed_data_dir = os.path.join(base_dir, 'data', 'Sierra Leone', 'processed')\n",
    "\n",
    "# Create directories if they don't exist\n",
    "os.makedirs(raw_data_dir, exist_ok=True)\n",
    "os.makedirs(processed_data_dir, exist_ok=True)\n",
    "\n",
    "print(f\"Folders created for Sierra Leone:\")\n",
    "print(f\" - Raw data folder: {raw_data_dir}\")\n",
    "print(f\" - Processed data folder: {processed_data_dir}\")\n",
    "\n",
    "# Example: Load a CSV file (replace 'your_file.csv' with actual file)\n",
    "# file_path = os.path.join(raw_data_dir, 'your_file.csv')\n",
    "# df = pd.read_csv(file_path)\n",
    "# print(df.head())\n",
    "\n"
   ]
  }
 ],
 "metadata": {
  "kernelspec": {
   "display_name": "venv",
   "language": "python",
   "name": "python3"
  },
  "language_info": {
   "codemirror_mode": {
    "name": "ipython",
    "version": 3
   },
   "file_extension": ".py",
   "mimetype": "text/x-python",
   "name": "python",
   "nbconvert_exporter": "python",
   "pygments_lexer": "ipython3",
   "version": "3.13.3"
  }
 },
 "nbformat": 4,
 "nbformat_minor": 5
}
