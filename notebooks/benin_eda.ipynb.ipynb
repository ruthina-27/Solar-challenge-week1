{
 "cells": [
  {
   "cell_type": "markdown",
   "id": "8ea3f4e1",
   "metadata": {},
   "source": [
    "# Data Analysis Notebook for Benin\n",
    "\n",
    "This notebook contains the setup and basic data analysis for **Benin**.\n",
    "\n",
    "## Folder Structure\n",
    "- data/Benin/raw\n",
    "- data/Benin/processed\n",
    "- notebooks/Benin\n",
    "\n",
    "\n",
    "---\n"
   ]
  },
  {
   "cell_type": "code",
   "execution_count": null,
   "id": "0d1c9358",
   "metadata": {},
   "outputs": [
    {
     "name": "stdout",
     "output_type": "stream",
     "text": [
      "[!] Raw file missing: data\\Benin\\raw\\benin_raw.csv\n"
     ]
    }
   ],
   "source": [
    "# Import necessary libraries\n",
    "import os\n",
    "import pandas as pd\n",
    "\n",
    "# Set up folder paths\n",
    "base_dir = os.getcwd()\n",
    "raw_data_dir = os.path.join(base_dir, 'data', 'Benin', 'raw')\n",
    "processed_data_dir = os.path.join(base_dir, 'data', 'Benin', 'processed')\n",
    "\n",
    "# Create directories if they don't exist\n",
    "os.makedirs(raw_data_dir, exist_ok=True)\n",
    "os.makedirs(processed_data_dir, exist_ok=True)\n",
    "\n",
    "print(f\"Folders created for Benin:\")\n",
    "print(f\" - Raw data folder: {raw_data_dir}\")\n",
    "print(f\" - Processed data folder: {processed_data_dir}\")\n",
    "\n",
    "# Example: Load a CSV file (replace 'your_file.csv' with actual file)\n",
    "# file_path = os.path.join(raw_data_dir, 'your_file.csv')\n",
    "# df = pd.read_csv(file_path)\n",
    "# print(df.head())# List all cleaned files\n",
    "\n"
   ]
  }
 ],
 "metadata": {
  "kernelspec": {
   "display_name": "venv",
   "language": "python",
   "name": "python3"
  },
  "language_info": {
   "codemirror_mode": {
    "name": "ipython",
    "version": 3
   },
   "file_extension": ".py",
   "mimetype": "text/x-python",
   "name": "python",
   "nbconvert_exporter": "python",
   "pygments_lexer": "ipython3",
   "version": "3.13.3"
  }
 },
 "nbformat": 4,
 "nbformat_minor": 5
}
